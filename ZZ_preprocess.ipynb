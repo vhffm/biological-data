{
 "cells": [
  {
   "cell_type": "markdown",
   "id": "f68d7575-0e3f-458e-95d0-dd63b2a9a160",
   "metadata": {},
   "source": [
    "# Preprocessing Code Scratchpad"
   ]
  },
  {
   "cell_type": "code",
   "execution_count": 8,
   "id": "1d4316da-7a13-4399-a57c-2df827046b1c",
   "metadata": {},
   "outputs": [],
   "source": [
    "%matplotlib inline"
   ]
  },
  {
   "cell_type": "code",
   "execution_count": 127,
   "id": "b04a847c-3309-4c0f-b730-9912e25bd15c",
   "metadata": {},
   "outputs": [],
   "source": [
    "import pandas as pd\n",
    "from pandas_profiling import ProfileReport\n",
    "from sklearn.preprocessing import scale\n",
    "from sklearn.preprocessing import minmax_scale\n",
    "import numpy as np"
   ]
  },
  {
   "cell_type": "markdown",
   "id": "7542cb83-adf6-419c-8f5f-d552f3a8ebec",
   "metadata": {},
   "source": [
    "# Functions"
   ]
  },
  {
   "cell_type": "code",
   "execution_count": 105,
   "id": "d45f7558-869c-4592-a9fa-8e90280050ae",
   "metadata": {},
   "outputs": [],
   "source": [
    "def to_one_hot(df):\n",
    "    df_dummies_X2 = pd.get_dummies(df.X2, prefix='X2')\n",
    "    df_dummies_X3 = pd.get_dummies(df.X3, prefix='X3')\n",
    "    df = df.drop(labels=['X2','X3'], axis=1)\n",
    "    df = df.merge(df_dummies_X2, left_index=True, right_index=True)\n",
    "    df = df.merge(df_dummies_X3, left_index=True, right_index=True)\n",
    "    return df"
   ]
  },
  {
   "cell_type": "markdown",
   "id": "ce123065-1eb8-4738-bb67-14471b8dc3f7",
   "metadata": {},
   "source": [
    "# Load and Preprocess"
   ]
  },
  {
   "cell_type": "code",
   "execution_count": 129,
   "id": "82481b8b-f83e-4c34-9896-de4dde9ec1be",
   "metadata": {},
   "outputs": [],
   "source": [
    "df = pd.read_csv('biological_data.csv', index_col=0)\n",
    "df.drop_duplicates(inplace=True)\n",
    "df.drop(labels=['X1'], axis=1, inplace=True)\n",
    "df.reset_index(drop=True, inplace=True)\n",
    "\n",
    "# one-hot\n",
    "df = to_one_hot(df)\n",
    "\n",
    "# rescale features\n",
    "df[['X4','X5','X6']] = scale(df[['X4','X5','X6']], axis=0)+0.5\n",
    "\n",
    "# rescale target\n",
    "df['Y'] = minmax_scale(df.Y)"
   ]
  },
  {
   "cell_type": "code",
   "execution_count": 130,
   "id": "f082ffe0-cd1c-4953-87d4-2c2f7d0350d3",
   "metadata": {},
   "outputs": [
    {
     "data": {
      "text/plain": [
       "0       0.25000\n",
       "1       0.00690\n",
       "2       0.25000\n",
       "3       0.25000\n",
       "4       0.25000\n",
       "         ...   \n",
       "1956    0.03805\n",
       "1957    0.06075\n",
       "1958    0.11190\n",
       "1959    0.09905\n",
       "1960    0.07325\n",
       "Name: Y, Length: 1961, dtype: float64"
      ]
     },
     "execution_count": 130,
     "metadata": {},
     "output_type": "execute_result"
    }
   ],
   "source": [
    "df.Y"
   ]
  },
  {
   "cell_type": "code",
   "execution_count": 114,
   "id": "1e19d9e5-3ff7-480f-98f5-bb59ac500723",
   "metadata": {},
   "outputs": [],
   "source": [
    "Yc = np.zeros_like(df.Y, dtype='bool')"
   ]
  },
  {
   "cell_type": "code",
   "execution_count": 125,
   "id": "0096c1b7-6112-4a52-b619-9079bf29fc5f",
   "metadata": {},
   "outputs": [],
   "source": [
    "df['Yc'] = df.Y>50"
   ]
  },
  {
   "cell_type": "code",
   "execution_count": 122,
   "id": "ad1acbbf-2533-47e7-9045-1a43a49069fe",
   "metadata": {},
   "outputs": [
    {
     "data": {
      "text/plain": [
       "1472"
      ]
     },
     "execution_count": 122,
     "metadata": {},
     "output_type": "execute_result"
    }
   ],
   "source": [
    "np.sum(Yc == True)"
   ]
  },
  {
   "cell_type": "code",
   "execution_count": 123,
   "id": "1ba9d792-55ff-4e3a-9625-cf4f20cdf562",
   "metadata": {},
   "outputs": [
    {
     "data": {
      "text/plain": [
       "489"
      ]
     },
     "execution_count": 123,
     "metadata": {},
     "output_type": "execute_result"
    }
   ],
   "source": [
    "np.sum(Yc == False)"
   ]
  },
  {
   "cell_type": "code",
   "execution_count": 88,
   "id": "a29d6b61-ae9b-4f7e-84a7-cf66bf304587",
   "metadata": {},
   "outputs": [
    {
     "data": {
      "application/vnd.jupyter.widget-view+json": {
       "model_id": "f3623a8c2e9a4f7d83b558739d8976ff",
       "version_major": 2,
       "version_minor": 0
      },
      "text/plain": [
       "Summarize dataset:   0%|          | 0/5 [00:00<?, ?it/s]"
      ]
     },
     "metadata": {},
     "output_type": "display_data"
    },
    {
     "name": "stderr",
     "output_type": "stream",
     "text": [
      "/Users/volkerh/miniconda3/envs/onco/lib/python3.9/site-packages/multimethod/__init__.py:209: FutureWarning: In a future version, `df.iloc[:, i] = newvals` will attempt to set the values inplace instead of always setting a new array. To retain the old behavior, use either `df[df.columns[i]] = newvals` or, if columns are non-unique, `df.isetitem(i, newvals)`\n",
      "  return self[tuple(map(self.get_type, args))](*args, **kwargs)\n",
      "/Users/volkerh/miniconda3/envs/onco/lib/python3.9/site-packages/multimethod/__init__.py:209: FutureWarning: In a future version, `df.iloc[:, i] = newvals` will attempt to set the values inplace instead of always setting a new array. To retain the old behavior, use either `df[df.columns[i]] = newvals` or, if columns are non-unique, `df.isetitem(i, newvals)`\n",
      "  return self[tuple(map(self.get_type, args))](*args, **kwargs)\n",
      "/Users/volkerh/miniconda3/envs/onco/lib/python3.9/site-packages/multimethod/__init__.py:209: FutureWarning: In a future version, `df.iloc[:, i] = newvals` will attempt to set the values inplace instead of always setting a new array. To retain the old behavior, use either `df[df.columns[i]] = newvals` or, if columns are non-unique, `df.isetitem(i, newvals)`\n",
      "  return self[tuple(map(self.get_type, args))](*args, **kwargs)\n",
      "/Users/volkerh/miniconda3/envs/onco/lib/python3.9/site-packages/multimethod/__init__.py:209: FutureWarning: In a future version, `df.iloc[:, i] = newvals` will attempt to set the values inplace instead of always setting a new array. To retain the old behavior, use either `df[df.columns[i]] = newvals` or, if columns are non-unique, `df.isetitem(i, newvals)`\n",
      "  return self[tuple(map(self.get_type, args))](*args, **kwargs)\n",
      "/Users/volkerh/miniconda3/envs/onco/lib/python3.9/site-packages/multimethod/__init__.py:209: FutureWarning: In a future version, `df.iloc[:, i] = newvals` will attempt to set the values inplace instead of always setting a new array. To retain the old behavior, use either `df[df.columns[i]] = newvals` or, if columns are non-unique, `df.isetitem(i, newvals)`\n",
      "  return self[tuple(map(self.get_type, args))](*args, **kwargs)\n",
      "/Users/volkerh/miniconda3/envs/onco/lib/python3.9/site-packages/multimethod/__init__.py:209: FutureWarning: In a future version, `df.iloc[:, i] = newvals` will attempt to set the values inplace instead of always setting a new array. To retain the old behavior, use either `df[df.columns[i]] = newvals` or, if columns are non-unique, `df.isetitem(i, newvals)`\n",
      "  return self[tuple(map(self.get_type, args))](*args, **kwargs)\n",
      "/Users/volkerh/miniconda3/envs/onco/lib/python3.9/site-packages/multimethod/__init__.py:209: FutureWarning: In a future version, `df.iloc[:, i] = newvals` will attempt to set the values inplace instead of always setting a new array. To retain the old behavior, use either `df[df.columns[i]] = newvals` or, if columns are non-unique, `df.isetitem(i, newvals)`\n",
      "  return self[tuple(map(self.get_type, args))](*args, **kwargs)\n",
      "/Users/volkerh/miniconda3/envs/onco/lib/python3.9/site-packages/multimethod/__init__.py:209: FutureWarning: In a future version, `df.iloc[:, i] = newvals` will attempt to set the values inplace instead of always setting a new array. To retain the old behavior, use either `df[df.columns[i]] = newvals` or, if columns are non-unique, `df.isetitem(i, newvals)`\n",
      "  return self[tuple(map(self.get_type, args))](*args, **kwargs)\n",
      "/Users/volkerh/miniconda3/envs/onco/lib/python3.9/site-packages/multimethod/__init__.py:209: FutureWarning: In a future version, `df.iloc[:, i] = newvals` will attempt to set the values inplace instead of always setting a new array. To retain the old behavior, use either `df[df.columns[i]] = newvals` or, if columns are non-unique, `df.isetitem(i, newvals)`\n",
      "  return self[tuple(map(self.get_type, args))](*args, **kwargs)\n",
      "/Users/volkerh/miniconda3/envs/onco/lib/python3.9/site-packages/multimethod/__init__.py:209: FutureWarning: In a future version, `df.iloc[:, i] = newvals` will attempt to set the values inplace instead of always setting a new array. To retain the old behavior, use either `df[df.columns[i]] = newvals` or, if columns are non-unique, `df.isetitem(i, newvals)`\n",
      "  return self[tuple(map(self.get_type, args))](*args, **kwargs)\n",
      "/Users/volkerh/miniconda3/envs/onco/lib/python3.9/site-packages/multimethod/__init__.py:209: FutureWarning: In a future version, `df.iloc[:, i] = newvals` will attempt to set the values inplace instead of always setting a new array. To retain the old behavior, use either `df[df.columns[i]] = newvals` or, if columns are non-unique, `df.isetitem(i, newvals)`\n",
      "  return self[tuple(map(self.get_type, args))](*args, **kwargs)\n",
      "/Users/volkerh/miniconda3/envs/onco/lib/python3.9/site-packages/multimethod/__init__.py:209: FutureWarning: In a future version, `df.iloc[:, i] = newvals` will attempt to set the values inplace instead of always setting a new array. To retain the old behavior, use either `df[df.columns[i]] = newvals` or, if columns are non-unique, `df.isetitem(i, newvals)`\n",
      "  return self[tuple(map(self.get_type, args))](*args, **kwargs)\n",
      "/Users/volkerh/miniconda3/envs/onco/lib/python3.9/site-packages/multimethod/__init__.py:209: FutureWarning: In a future version, `df.iloc[:, i] = newvals` will attempt to set the values inplace instead of always setting a new array. To retain the old behavior, use either `df[df.columns[i]] = newvals` or, if columns are non-unique, `df.isetitem(i, newvals)`\n",
      "  return self[tuple(map(self.get_type, args))](*args, **kwargs)\n",
      "/Users/volkerh/miniconda3/envs/onco/lib/python3.9/site-packages/multimethod/__init__.py:209: FutureWarning: In a future version, `df.iloc[:, i] = newvals` will attempt to set the values inplace instead of always setting a new array. To retain the old behavior, use either `df[df.columns[i]] = newvals` or, if columns are non-unique, `df.isetitem(i, newvals)`\n",
      "  return self[tuple(map(self.get_type, args))](*args, **kwargs)\n",
      "/Users/volkerh/miniconda3/envs/onco/lib/python3.9/site-packages/multimethod/__init__.py:209: FutureWarning: In a future version, `df.iloc[:, i] = newvals` will attempt to set the values inplace instead of always setting a new array. To retain the old behavior, use either `df[df.columns[i]] = newvals` or, if columns are non-unique, `df.isetitem(i, newvals)`\n",
      "  return self[tuple(map(self.get_type, args))](*args, **kwargs)\n",
      "/Users/volkerh/miniconda3/envs/onco/lib/python3.9/site-packages/multimethod/__init__.py:209: FutureWarning: In a future version, `df.iloc[:, i] = newvals` will attempt to set the values inplace instead of always setting a new array. To retain the old behavior, use either `df[df.columns[i]] = newvals` or, if columns are non-unique, `df.isetitem(i, newvals)`\n",
      "  return self[tuple(map(self.get_type, args))](*args, **kwargs)\n",
      "/Users/volkerh/miniconda3/envs/onco/lib/python3.9/site-packages/multimethod/__init__.py:209: FutureWarning: In a future version, `df.iloc[:, i] = newvals` will attempt to set the values inplace instead of always setting a new array. To retain the old behavior, use either `df[df.columns[i]] = newvals` or, if columns are non-unique, `df.isetitem(i, newvals)`\n",
      "  return self[tuple(map(self.get_type, args))](*args, **kwargs)\n",
      "/Users/volkerh/miniconda3/envs/onco/lib/python3.9/site-packages/multimethod/__init__.py:209: FutureWarning: In a future version, `df.iloc[:, i] = newvals` will attempt to set the values inplace instead of always setting a new array. To retain the old behavior, use either `df[df.columns[i]] = newvals` or, if columns are non-unique, `df.isetitem(i, newvals)`\n",
      "  return self[tuple(map(self.get_type, args))](*args, **kwargs)\n",
      "/Users/volkerh/miniconda3/envs/onco/lib/python3.9/site-packages/multimethod/__init__.py:209: FutureWarning: In a future version, `df.iloc[:, i] = newvals` will attempt to set the values inplace instead of always setting a new array. To retain the old behavior, use either `df[df.columns[i]] = newvals` or, if columns are non-unique, `df.isetitem(i, newvals)`\n",
      "  return self[tuple(map(self.get_type, args))](*args, **kwargs)\n",
      "/Users/volkerh/miniconda3/envs/onco/lib/python3.9/site-packages/multimethod/__init__.py:209: FutureWarning: In a future version, `df.iloc[:, i] = newvals` will attempt to set the values inplace instead of always setting a new array. To retain the old behavior, use either `df[df.columns[i]] = newvals` or, if columns are non-unique, `df.isetitem(i, newvals)`\n",
      "  return self[tuple(map(self.get_type, args))](*args, **kwargs)\n"
     ]
    },
    {
     "data": {
      "application/vnd.jupyter.widget-view+json": {
       "model_id": "9e535e4a29c843ecbdbe543ab8969488",
       "version_major": 2,
       "version_minor": 0
      },
      "text/plain": [
       "Generate report structure:   0%|          | 0/1 [00:00<?, ?it/s]"
      ]
     },
     "metadata": {},
     "output_type": "display_data"
    },
    {
     "data": {
      "application/vnd.jupyter.widget-view+json": {
       "model_id": "0db327f0c49a421ca689ad793a34819f",
       "version_major": 2,
       "version_minor": 0
      },
      "text/plain": [
       "Render HTML:   0%|          | 0/1 [00:00<?, ?it/s]"
      ]
     },
     "metadata": {},
     "output_type": "display_data"
    },
    {
     "data": {
      "application/vnd.jupyter.widget-view+json": {
       "model_id": "fbf53a60feb74dd3a73cd6c5a0881360",
       "version_major": 2,
       "version_minor": 0
      },
      "text/plain": [
       "Export report to file:   0%|          | 0/1 [00:00<?, ?it/s]"
      ]
     },
     "metadata": {},
     "output_type": "display_data"
    }
   ],
   "source": [
    "report = ProfileReport(df_new)\n",
    "report.to_file(\"report_onehot.html\")"
   ]
  },
  {
   "cell_type": "code",
   "execution_count": 87,
   "id": "2ae83daf-5dcb-4d14-8af5-504a1ea95ea7",
   "metadata": {},
   "outputs": [],
   "source": [
    "df_new.to_csv('biological_data_onehot.csv', index=False)"
   ]
  },
  {
   "cell_type": "code",
   "execution_count": null,
   "id": "a10ca0d9-649b-4384-a308-61855141904a",
   "metadata": {},
   "outputs": [],
   "source": []
  }
 ],
 "metadata": {
  "kernelspec": {
   "display_name": "Python 3 (ipykernel)",
   "language": "python",
   "name": "python3"
  },
  "language_info": {
   "codemirror_mode": {
    "name": "ipython",
    "version": 3
   },
   "file_extension": ".py",
   "mimetype": "text/x-python",
   "name": "python",
   "nbconvert_exporter": "python",
   "pygments_lexer": "ipython3",
   "version": "3.9.16"
  }
 },
 "nbformat": 4,
 "nbformat_minor": 5
}
